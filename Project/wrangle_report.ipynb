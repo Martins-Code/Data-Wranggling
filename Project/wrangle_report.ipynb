{
 "cells": [
  {
   "cell_type": "markdown",
   "metadata": {},
   "source": [
    "## Reporting: wragle_report\n",
    "* Create a **300-600 word written report** called \"wrangle_report.pdf\" or \"wrangle_report.html\" that briefly describes your wrangling efforts. This is to be framed as an internal document."
   ]
  },
  {
   "cell_type": "markdown",
   "metadata": {},
   "source": [
    "##### The wrangling process was done by gathering three different dataset , assessing them for various isses and cleaning them for analysis"
   ]
  },
  {
   "cell_type": "markdown",
   "metadata": {},
   "source": [
    "### Assessing"
   ]
  },
  {
   "cell_type": "markdown",
   "metadata": {},
   "source": [
    "#### After gathering dataset both from our learning platform and twitter api(tweet_json), visual and programmatic assessment was done to to detect issues\n",
    "\n",
    "- The followling were the various issues found: "
   ]
  },
  {
   "cell_type": "markdown",
   "metadata": {},
   "source": [
    "### Quality issues\n",
    "\n",
    "#### `Twitter_archive (df_1)`  :\n",
    "\n",
    "- Unnecessary column for our analysis(retweet_status_id, retweeted_status_user, retweeted_status_timestamp, expanded_urls )\n",
    "- Missing records (in_reply_to_status, in_reply_to_user_id)\n",
    "- Erroneous data type (tweet_id, timestamp)\n",
    "- Name column has no missing values but have missing names recorded as none\n",
    "- Some rows have atributes not relating to dogs\n",
    "- Extract source of tweet is lost in html strings\n",
    "- Some names have single string which are not valid names\n",
    "\n",
    "\n",
    "#### `Image_predictions (df_2)` :\n",
    "\n",
    "- Erroneous data type (tweet_id)\n",
    "- Inconsistency in name format (p1, p2, p3)\n",
    "\n",
    "#### `Tweet_json (df_3)` :\n",
    "\n",
    "- Erroneous data type (tweet_id)"
   ]
  },
  {
   "cell_type": "markdown",
   "metadata": {},
   "source": [
    "### Tidiness issues\n",
    "\n",
    "#### `Twitter_archive (df_1)`  :\n",
    "\n",
    "- Reduntant columns for stages of dogs (doggo, floofer, pupper, puppo) are 4 instead of a simple category column\n",
    "\n",
    "#### `All DataFrame` (df_1, df_2, df_3) :\n",
    "\n",
    "- Tweet_id label should be consistent across all dataset\n",
    "- All dataset should be merge into one"
   ]
  },
  {
   "cell_type": "markdown",
   "metadata": {},
   "source": [
    "### Cleaning"
   ]
  },
  {
   "cell_type": "markdown",
   "metadata": {},
   "source": [
    "#### For the cleaning process, i first addressed tidiness issues:\n",
    "\n",
    "- There were four column for dog stage, a new column was created to store each stage called dog stage and the individual column for each stages were dropped\n",
    "- Some column names were not consistent and was renamed\n",
    "- We had to merge all dataset into one dataframe\n",
    "\n",
    "#### Second i first addressed quality issues:\n",
    "\n",
    "- Some columns had wrong dataset and were changed\n",
    "- Some columns had missing data and some were not needed for our analysis and were dropped\n",
    "- Some columns had inconsistent naming format, so there all were converted to uppercase\n",
    "- I was able to extract source of tweet using python extracts function"
   ]
  },
  {
   "cell_type": "code",
   "execution_count": null,
   "metadata": {},
   "outputs": [],
   "source": []
  },
  {
   "cell_type": "code",
   "execution_count": null,
   "metadata": {},
   "outputs": [],
   "source": []
  }
 ],
 "metadata": {
  "kernelspec": {
   "display_name": "Python 3 (ipykernel)",
   "language": "python",
   "name": "python3"
  },
  "language_info": {
   "codemirror_mode": {
    "name": "ipython",
    "version": 3
   },
   "file_extension": ".py",
   "mimetype": "text/x-python",
   "name": "python",
   "nbconvert_exporter": "python",
   "pygments_lexer": "ipython3",
   "version": "3.8.10"
  }
 },
 "nbformat": 4,
 "nbformat_minor": 2
}
